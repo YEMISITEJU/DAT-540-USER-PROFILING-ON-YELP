{
 "cells": [
  {
   "cell_type": "code",
   "execution_count": 1,
   "metadata": {},
   "outputs": [],
   "source": [
    "#Importing all the necessary libraries\n",
    "import matplotlib.pyplot as plt\n",
    "import numpy as np\n",
    "import seaborn as sns\n",
    "import time"
   ]
  },
  {
   "cell_type": "code",
   "execution_count": 2,
   "metadata": {},
   "outputs": [],
   "source": [
    "#Importing all the necessary libraries\n",
    "import pyspark\n",
    "from pyspark.sql import SparkSession\n",
    "from pyspark.sql.functions import sqrt, udf, struct, count, when\n",
    "from pyspark.sql.functions import lit\n",
    "from pyspark.sql.types import StructType,StructField, StringType, IntegerType, FloatType, DoubleType\n",
    "from pyspark.sql.window import Window\n",
    "from pyspark.sql.functions import col, avg,stddev,mean,sum as spark_sum, sqrt, min as spark_min,max as spark_max, monotonically_increasing_id, when, length, log, isnull, isnan, count"
   ]
  },
  {
   "cell_type": "code",
   "execution_count": 3,
   "metadata": {},
   "outputs": [],
   "source": [
    "import time"
   ]
  },
  {
   "cell_type": "code",
   "execution_count": 4,
   "metadata": {},
   "outputs": [],
   "source": [
    "from delta import *"
   ]
  },
  {
   "cell_type": "code",
   "execution_count": 5,
   "metadata": {},
   "outputs": [
    {
     "name": "stdout",
     "output_type": "stream",
     "text": [
      "23/04/26 22:47:02 WARN Utils: Your hostname, Swains-MacBook-Pro.local resolves to a loopback address: 127.0.0.1; using 152.94.139.216 instead (on interface en0)\n",
      "23/04/26 22:47:02 WARN Utils: Set SPARK_LOCAL_IP if you need to bind to another address\n",
      ":: loading settings :: url = jar:file:/Users/swainstha/opt/anaconda3/lib/python3.9/site-packages/pyspark/jars/ivy-2.5.1.jar!/org/apache/ivy/core/settings/ivysettings.xml\n"
     ]
    },
    {
     "name": "stderr",
     "output_type": "stream",
     "text": [
      "Ivy Default Cache set to: /Users/swainstha/.ivy2/cache\n",
      "The jars for the packages stored in: /Users/swainstha/.ivy2/jars\n",
      "io.delta#delta-core_2.12 added as a dependency\n",
      ":: resolving dependencies :: org.apache.spark#spark-submit-parent-5c3e2c16-8bac-42cc-88f2-f5628effb2be;1.0\n",
      "\tconfs: [default]\n",
      "\tfound io.delta#delta-core_2.12;2.3.0 in central\n",
      "\tfound io.delta#delta-storage;2.3.0 in central\n",
      "\tfound org.antlr#antlr4-runtime;4.8 in central\n",
      ":: resolution report :: resolve 105ms :: artifacts dl 4ms\n",
      "\t:: modules in use:\n",
      "\tio.delta#delta-core_2.12;2.3.0 from central in [default]\n",
      "\tio.delta#delta-storage;2.3.0 from central in [default]\n",
      "\torg.antlr#antlr4-runtime;4.8 from central in [default]\n",
      "\t---------------------------------------------------------------------\n",
      "\t|                  |            modules            ||   artifacts   |\n",
      "\t|       conf       | number| search|dwnlded|evicted|| number|dwnlded|\n",
      "\t---------------------------------------------------------------------\n",
      "\t|      default     |   3   |   0   |   0   |   0   ||   3   |   0   |\n",
      "\t---------------------------------------------------------------------\n",
      ":: retrieving :: org.apache.spark#spark-submit-parent-5c3e2c16-8bac-42cc-88f2-f5628effb2be\n",
      "\tconfs: [default]\n",
      "\t0 artifacts copied, 3 already retrieved (0kB/15ms)\n"
     ]
    },
    {
     "name": "stdout",
     "output_type": "stream",
     "text": [
      "23/04/26 22:47:02 WARN NativeCodeLoader: Unable to load native-hadoop library for your platform... using builtin-java classes where applicable\n"
     ]
    },
    {
     "name": "stderr",
     "output_type": "stream",
     "text": [
      "Setting default log level to \"WARN\".\n",
      "To adjust logging level use sc.setLogLevel(newLevel). For SparkR, use setLogLevel(newLevel).\n"
     ]
    },
    {
     "name": "stdout",
     "output_type": "stream",
     "text": [
      "23/04/26 22:47:03 WARN Utils: Service 'SparkUI' could not bind on port 4040. Attempting port 4041.\n"
     ]
    }
   ],
   "source": [
    "builder = pyspark.sql.SparkSession.builder.appName(\"Group14\") \\\n",
    "    .config(\"spark.sql.extensions\", \"io.delta.sql.DeltaSparkSessionExtension\") \\\n",
    "    .config(\"spark.sql.catalog.spark_catalog\", \"org.apache.spark.sql.delta.catalog.DeltaCatalog\") \\\n",
    "    .config(\"spark.executor.instances\",6) \\\n",
    "    .master(\"yarn\")\n",
    "\n",
    "spark = configure_spark_with_delta_pip(builder).getOrCreate()"
   ]
  },
  {
   "cell_type": "code",
   "execution_count": 6,
   "metadata": {},
   "outputs": [],
   "source": [
    "# Disable logging\n",
    "import logging\n",
    "\n",
    "logger = spark._jvm.org.apache.log4j\n",
    "logger.LogManager.getLogger(\"org\").setLevel(logger.Level.OFF)\n",
    "logger.LogManager.getLogger(\"akka\").setLevel(logger.Level.OFF)\n",
    "\n",
    "spark.conf.set(\"spark.driver.log.level\",\"OFF\")"
   ]
  },
  {
   "cell_type": "code",
   "execution_count": 14,
   "metadata": {},
   "outputs": [],
   "source": [
    "#Define the schema\n",
    "schema = StructType([ \\\n",
    "    StructField(\"user_id\",StringType(),True), \\\n",
    "    StructField(\"name\",StringType(),True), \\\n",
    "    StructField(\"review_count\",IntegerType(),True), \\\n",
    "    StructField(\"yelping_since\", StringType(), True), \\\n",
    "    StructField(\"friends\", IntegerType(), True), \\\n",
    "    StructField(\"useful\", IntegerType(), True), \\\n",
    "    StructField(\"funny\", IntegerType(), True), \\\n",
    "                     \n",
    "    StructField(\"cool\",IntegerType(),True), \\\n",
    "    StructField(\"fans\",IntegerType(),True), \\\n",
    "    StructField(\"elite\", IntegerType(), True), \\\n",
    "    StructField(\"average_stars\", FloatType(), True), \\\n",
    "    StructField(\"compliment_hot\", IntegerType(), True), \\\n",
    "                     \n",
    "    StructField(\"compliment_more\",IntegerType(),True), \\\n",
    "    StructField(\"compliment_profile\",IntegerType(),True), \\\n",
    "    StructField(\"compliment_cute\", IntegerType(), True), \\\n",
    "    StructField(\"compliment_list\", IntegerType(), True), \\\n",
    "    StructField(\"compliment_note\", IntegerType(), True), \\\n",
    "                     \n",
    "    StructField(\"compliment_plain\",IntegerType(),True), \\\n",
    "    StructField(\"compliment_cool\",IntegerType(),True), \\\n",
    "    StructField(\"compliment_funny\", IntegerType(), True), \\\n",
    "    StructField(\"compliment_writer\", IntegerType(), True), \\\n",
    "    StructField(\"compliment_photos\", IntegerType(), True) \\\n",
    "  ])"
   ]
  },
  {
   "cell_type": "code",
   "execution_count": 15,
   "metadata": {},
   "outputs": [
    {
     "name": "stdout",
     "output_type": "stream",
     "text": [
      "root\n",
      " |-- user_id: string (nullable = true)\n",
      " |-- name: string (nullable = true)\n",
      " |-- review_count: integer (nullable = true)\n",
      " |-- yelping_since: string (nullable = true)\n",
      " |-- friends: integer (nullable = true)\n",
      " |-- useful: integer (nullable = true)\n",
      " |-- funny: integer (nullable = true)\n",
      " |-- cool: integer (nullable = true)\n",
      " |-- fans: integer (nullable = true)\n",
      " |-- elite: integer (nullable = true)\n",
      " |-- average_stars: float (nullable = true)\n",
      " |-- compliment_hot: integer (nullable = true)\n",
      " |-- compliment_more: integer (nullable = true)\n",
      " |-- compliment_profile: integer (nullable = true)\n",
      " |-- compliment_cute: integer (nullable = true)\n",
      " |-- compliment_list: integer (nullable = true)\n",
      " |-- compliment_note: integer (nullable = true)\n",
      " |-- compliment_plain: integer (nullable = true)\n",
      " |-- compliment_cool: integer (nullable = true)\n",
      " |-- compliment_funny: integer (nullable = true)\n",
      " |-- compliment_writer: integer (nullable = true)\n",
      " |-- compliment_photos: integer (nullable = true)\n",
      "\n"
     ]
    },
    {
     "data": {
      "text/plain": [
       "DataFrame[user_id: string, name: string, review_count: int, yelping_since: string, friends: int, useful: int, funny: int, cool: int, fans: int, elite: int, average_stars: float, compliment_hot: int, compliment_more: int, compliment_profile: int, compliment_cute: int, compliment_list: int, compliment_note: int, compliment_plain: int, compliment_cool: int, compliment_funny: int, compliment_writer: int, compliment_photos: int]"
      ]
     },
     "execution_count": 15,
     "metadata": {},
     "output_type": "execute_result"
    }
   ],
   "source": [
    "#read the csv file\n",
    "file = \"hdfs://namenode:9000/dat/yelpuser.csv\"\n",
    "df = spark.read.format(\"csv\") \\\n",
    "      .option(\"header\", False) \\\n",
    "      .schema(schema) \\\n",
    "      .load(file)\n",
    "\n",
    "#Print the schema\n",
    "df.printSchema()\n",
    "\n",
    "# Cache the DataFrame\n",
    "df.cache()"
   ]
  },
  {
   "cell_type": "code",
   "execution_count": 16,
   "metadata": {},
   "outputs": [
    {
     "name": "stdout",
     "output_type": "stream",
     "text": [
      "+--------------------+------+------------+-------------+-------+------+-----+----+-----+-----+-------------+--------------+---------------+------------------+---------------+---------------+---------------+----------------+---------------+----------------+-----------------+-----------------+\n",
      "|             user_id|  name|review_count|yelping_since|friends|useful|funny|cool| fans|elite|average_stars|compliment_hot|compliment_more|compliment_profile|compliment_cute|compliment_list|compliment_note|compliment_plain|compliment_cool|compliment_funny|compliment_writer|compliment_photos|\n",
      "+--------------------+------+------------+-------------+-------+------+-----+----+-----+-----+-------------+--------------+---------------+------------------+---------------+---------------+---------------+----------------+---------------+----------------+-----------------+-----------------+\n",
      "|qVc8ODYU5SZjKXVBg...|Walker|         585|2007-01-25 16|   7217|  1259| 5994|2007|14995|  267|         3.91|           250|             65|                55|             56|             18|            232|             844|            467|             467|              239|             null|\n",
      "|j14WgRoU_-2ZE1aw1...|Daniel|        4333|2009-01-25 04|  43091| 13066|27281|2009| 4659| 3138|         3.74|          1145|            264|               184|            157|            251|           1847|            7054|           3131|            3131|             1521|             null|\n",
      "|2WnXYQFK0hXEoTxPt...| Steph|         665|2008-07-25 10|   2086|  1010| 1003|2009|  385|   52|         3.32|            89|             13|                10|             17|              3|             66|              96|            119|             119|               35|             null|\n",
      "|SZDeASXq7o05mMNLs...|  Gwen|         224|2005-11-29 04|    512|   330|  299|2009|  133|   28|         4.27|            24|              4|                 1|              6|              2|             12|              16|             26|              26|               10|             null|\n",
      "|hA5lMy-EnncsH4JoR...| Karen|          79|2007-01-05 19|     29|    15|    7|null|   27|    1|         3.54|             1|              1|                 0|              0|              0|              1|               1|              0|               0|                0|             null|\n",
      "+--------------------+------+------------+-------------+-------+------+-----+----+-----+-----+-------------+--------------+---------------+------------------+---------------+---------------+---------------+----------------+---------------+----------------+-----------------+-----------------+\n",
      "only showing top 5 rows\n",
      "\n"
     ]
    }
   ],
   "source": [
    "#Show few rows in the dataset \n",
    "df.show(5)"
   ]
  },
  {
   "cell_type": "code",
   "execution_count": 17,
   "metadata": {},
   "outputs": [
    {
     "data": {
      "text/plain": [
       "29398"
      ]
     },
     "execution_count": 17,
     "metadata": {},
     "output_type": "execute_result"
    }
   ],
   "source": [
    "#Total number of rows in the dataset\n",
    "df.count()"
   ]
  },
  {
   "cell_type": "code",
   "execution_count": 18,
   "metadata": {},
   "outputs": [
    {
     "data": {
      "text/plain": [
       "22"
      ]
     },
     "execution_count": 18,
     "metadata": {},
     "output_type": "execute_result"
    }
   ],
   "source": [
    "#Number of columns in the dataset\n",
    "len(df.columns)"
   ]
  },
  {
   "cell_type": "code",
   "execution_count": 28,
   "metadata": {},
   "outputs": [
    {
     "name": "stdout",
     "output_type": "stream",
     "text": [
      "+-------+----+------------+-------------+-------+------+-----+-----+----+-----+-------------+--------------+---------------+------------------+---------------+---------------+---------------+----------------+---------------+----------------+-----------------+-----------------+\n",
      "|user_id|name|review_count|yelping_since|friends|useful|funny| cool|fans|elite|average_stars|compliment_hot|compliment_more|compliment_profile|compliment_cute|compliment_list|compliment_note|compliment_plain|compliment_cool|compliment_funny|compliment_writer|compliment_photos|\n",
      "+-------+----+------------+-------------+-------+------+-----+-----+----+-----+-------------+--------------+---------------+------------------+---------------+---------------+---------------+----------------+---------------+----------------+-----------------+-----------------+\n",
      "|      0|   3|           0|            0|      0|     0|    0|19675|   0|    0|            0|             0|              0|                 0|              0|              0|              0|               0|              0|               0|                0|            29398|\n",
      "+-------+----+------------+-------------+-------+------+-----+-----+----+-----+-------------+--------------+---------------+------------------+---------------+---------------+---------------+----------------+---------------+----------------+-----------------+-----------------+\n",
      "\n"
     ]
    }
   ],
   "source": [
    "#check for nan or null values\n",
    "df.select([count(when(isnan(c) | col(c).isNull(), c)).alias(c) for c in df.columns]).show()"
   ]
  },
  {
   "cell_type": "code",
   "execution_count": 29,
   "metadata": {},
   "outputs": [],
   "source": [
    "#drop the user_id and name column\n",
    "df = df.drop(\"user_id\")\n",
    "df = df.drop(\"name\")\n",
    "df = df.drop(\"compliment_photos\")\n",
    "df = df.drop(\"cool\")\n",
    "df = df.drop(\"yelping_since\")"
   ]
  },
  {
   "cell_type": "code",
   "execution_count": 30,
   "metadata": {},
   "outputs": [
    {
     "data": {
      "text/plain": [
       "17"
      ]
     },
     "execution_count": 30,
     "metadata": {},
     "output_type": "execute_result"
    }
   ],
   "source": [
    "#number of columns after dropping irrelevant fields\n",
    "len(df.columns)"
   ]
  },
  {
   "cell_type": "code",
   "execution_count": 31,
   "metadata": {},
   "outputs": [],
   "source": [
    "#convert to pandas for finding correlation among columns\n",
    "dfp = df.toPandas()"
   ]
  },
  {
   "cell_type": "code",
   "execution_count": 32,
   "metadata": {},
   "outputs": [
    {
     "data": {
      "text/html": [
       "<div>\n",
       "<style scoped>\n",
       "    .dataframe tbody tr th:only-of-type {\n",
       "        vertical-align: middle;\n",
       "    }\n",
       "\n",
       "    .dataframe tbody tr th {\n",
       "        vertical-align: top;\n",
       "    }\n",
       "\n",
       "    .dataframe thead th {\n",
       "        text-align: right;\n",
       "    }\n",
       "</style>\n",
       "<table border=\"1\" class=\"dataframe\">\n",
       "  <thead>\n",
       "    <tr style=\"text-align: right;\">\n",
       "      <th></th>\n",
       "      <th>review_count</th>\n",
       "      <th>friends</th>\n",
       "      <th>useful</th>\n",
       "      <th>funny</th>\n",
       "      <th>fans</th>\n",
       "      <th>elite</th>\n",
       "      <th>average_stars</th>\n",
       "      <th>compliment_hot</th>\n",
       "      <th>compliment_more</th>\n",
       "      <th>compliment_profile</th>\n",
       "      <th>compliment_cute</th>\n",
       "      <th>compliment_list</th>\n",
       "      <th>compliment_note</th>\n",
       "      <th>compliment_plain</th>\n",
       "      <th>compliment_cool</th>\n",
       "      <th>compliment_funny</th>\n",
       "      <th>compliment_writer</th>\n",
       "    </tr>\n",
       "  </thead>\n",
       "  <tbody>\n",
       "    <tr>\n",
       "      <th>review_count</th>\n",
       "      <td>1.000000</td>\n",
       "      <td>0.711769</td>\n",
       "      <td>0.619039</td>\n",
       "      <td>0.647537</td>\n",
       "      <td>0.513226</td>\n",
       "      <td>0.472279</td>\n",
       "      <td>-0.044503</td>\n",
       "      <td>0.372344</td>\n",
       "      <td>0.272825</td>\n",
       "      <td>0.166503</td>\n",
       "      <td>0.227501</td>\n",
       "      <td>0.176971</td>\n",
       "      <td>0.447449</td>\n",
       "      <td>0.372380</td>\n",
       "      <td>0.428973</td>\n",
       "      <td>0.428973</td>\n",
       "      <td>0.461522</td>\n",
       "    </tr>\n",
       "    <tr>\n",
       "      <th>friends</th>\n",
       "      <td>0.711769</td>\n",
       "      <td>1.000000</td>\n",
       "      <td>0.960604</td>\n",
       "      <td>0.991589</td>\n",
       "      <td>0.574577</td>\n",
       "      <td>0.574193</td>\n",
       "      <td>-0.008711</td>\n",
       "      <td>0.635415</td>\n",
       "      <td>0.419372</td>\n",
       "      <td>0.283000</td>\n",
       "      <td>0.341022</td>\n",
       "      <td>0.262225</td>\n",
       "      <td>0.657270</td>\n",
       "      <td>0.627849</td>\n",
       "      <td>0.719779</td>\n",
       "      <td>0.719779</td>\n",
       "      <td>0.726829</td>\n",
       "    </tr>\n",
       "    <tr>\n",
       "      <th>useful</th>\n",
       "      <td>0.619039</td>\n",
       "      <td>0.960604</td>\n",
       "      <td>1.000000</td>\n",
       "      <td>0.975895</td>\n",
       "      <td>0.492673</td>\n",
       "      <td>0.523410</td>\n",
       "      <td>-0.007591</td>\n",
       "      <td>0.634971</td>\n",
       "      <td>0.407670</td>\n",
       "      <td>0.281452</td>\n",
       "      <td>0.345121</td>\n",
       "      <td>0.254847</td>\n",
       "      <td>0.615432</td>\n",
       "      <td>0.586199</td>\n",
       "      <td>0.703595</td>\n",
       "      <td>0.703595</td>\n",
       "      <td>0.699899</td>\n",
       "    </tr>\n",
       "    <tr>\n",
       "      <th>funny</th>\n",
       "      <td>0.647537</td>\n",
       "      <td>0.991589</td>\n",
       "      <td>0.975895</td>\n",
       "      <td>1.000000</td>\n",
       "      <td>0.534006</td>\n",
       "      <td>0.539248</td>\n",
       "      <td>0.001484</td>\n",
       "      <td>0.647211</td>\n",
       "      <td>0.418956</td>\n",
       "      <td>0.288027</td>\n",
       "      <td>0.342214</td>\n",
       "      <td>0.258147</td>\n",
       "      <td>0.644899</td>\n",
       "      <td>0.618947</td>\n",
       "      <td>0.726641</td>\n",
       "      <td>0.726641</td>\n",
       "      <td>0.720056</td>\n",
       "    </tr>\n",
       "    <tr>\n",
       "      <th>fans</th>\n",
       "      <td>0.513226</td>\n",
       "      <td>0.574577</td>\n",
       "      <td>0.492673</td>\n",
       "      <td>0.534006</td>\n",
       "      <td>1.000000</td>\n",
       "      <td>0.574001</td>\n",
       "      <td>0.033652</td>\n",
       "      <td>0.422232</td>\n",
       "      <td>0.255388</td>\n",
       "      <td>0.150471</td>\n",
       "      <td>0.296067</td>\n",
       "      <td>0.170375</td>\n",
       "      <td>0.502204</td>\n",
       "      <td>0.511819</td>\n",
       "      <td>0.480130</td>\n",
       "      <td>0.480130</td>\n",
       "      <td>0.460217</td>\n",
       "    </tr>\n",
       "    <tr>\n",
       "      <th>elite</th>\n",
       "      <td>0.472279</td>\n",
       "      <td>0.574193</td>\n",
       "      <td>0.523410</td>\n",
       "      <td>0.539248</td>\n",
       "      <td>0.574001</td>\n",
       "      <td>1.000000</td>\n",
       "      <td>0.004782</td>\n",
       "      <td>0.379668</td>\n",
       "      <td>0.243709</td>\n",
       "      <td>0.144314</td>\n",
       "      <td>0.294399</td>\n",
       "      <td>0.171907</td>\n",
       "      <td>0.456956</td>\n",
       "      <td>0.476199</td>\n",
       "      <td>0.438780</td>\n",
       "      <td>0.438780</td>\n",
       "      <td>0.422488</td>\n",
       "    </tr>\n",
       "    <tr>\n",
       "      <th>average_stars</th>\n",
       "      <td>-0.044503</td>\n",
       "      <td>-0.008711</td>\n",
       "      <td>-0.007591</td>\n",
       "      <td>0.001484</td>\n",
       "      <td>0.033652</td>\n",
       "      <td>0.004782</td>\n",
       "      <td>1.000000</td>\n",
       "      <td>0.003194</td>\n",
       "      <td>-0.004146</td>\n",
       "      <td>-0.000604</td>\n",
       "      <td>0.000672</td>\n",
       "      <td>-0.002399</td>\n",
       "      <td>-0.001508</td>\n",
       "      <td>0.007923</td>\n",
       "      <td>0.002911</td>\n",
       "      <td>0.002911</td>\n",
       "      <td>-0.000883</td>\n",
       "    </tr>\n",
       "    <tr>\n",
       "      <th>compliment_hot</th>\n",
       "      <td>0.372344</td>\n",
       "      <td>0.635415</td>\n",
       "      <td>0.634971</td>\n",
       "      <td>0.647211</td>\n",
       "      <td>0.422232</td>\n",
       "      <td>0.379668</td>\n",
       "      <td>0.003194</td>\n",
       "      <td>1.000000</td>\n",
       "      <td>0.689254</td>\n",
       "      <td>0.592210</td>\n",
       "      <td>0.739594</td>\n",
       "      <td>0.562339</td>\n",
       "      <td>0.849045</td>\n",
       "      <td>0.734313</td>\n",
       "      <td>0.937841</td>\n",
       "      <td>0.937841</td>\n",
       "      <td>0.847788</td>\n",
       "    </tr>\n",
       "    <tr>\n",
       "      <th>compliment_more</th>\n",
       "      <td>0.272825</td>\n",
       "      <td>0.419372</td>\n",
       "      <td>0.407670</td>\n",
       "      <td>0.418956</td>\n",
       "      <td>0.255388</td>\n",
       "      <td>0.243709</td>\n",
       "      <td>-0.004146</td>\n",
       "      <td>0.689254</td>\n",
       "      <td>1.000000</td>\n",
       "      <td>0.972656</td>\n",
       "      <td>0.823449</td>\n",
       "      <td>0.944633</td>\n",
       "      <td>0.796831</td>\n",
       "      <td>0.519931</td>\n",
       "      <td>0.663160</td>\n",
       "      <td>0.663160</td>\n",
       "      <td>0.781292</td>\n",
       "    </tr>\n",
       "    <tr>\n",
       "      <th>compliment_profile</th>\n",
       "      <td>0.166503</td>\n",
       "      <td>0.283000</td>\n",
       "      <td>0.281452</td>\n",
       "      <td>0.288027</td>\n",
       "      <td>0.150471</td>\n",
       "      <td>0.144314</td>\n",
       "      <td>-0.000604</td>\n",
       "      <td>0.592210</td>\n",
       "      <td>0.972656</td>\n",
       "      <td>1.000000</td>\n",
       "      <td>0.786350</td>\n",
       "      <td>0.949975</td>\n",
       "      <td>0.699987</td>\n",
       "      <td>0.418886</td>\n",
       "      <td>0.549567</td>\n",
       "      <td>0.549567</td>\n",
       "      <td>0.681347</td>\n",
       "    </tr>\n",
       "    <tr>\n",
       "      <th>compliment_cute</th>\n",
       "      <td>0.227501</td>\n",
       "      <td>0.341022</td>\n",
       "      <td>0.345121</td>\n",
       "      <td>0.342214</td>\n",
       "      <td>0.296067</td>\n",
       "      <td>0.294399</td>\n",
       "      <td>0.000672</td>\n",
       "      <td>0.739594</td>\n",
       "      <td>0.823449</td>\n",
       "      <td>0.786350</td>\n",
       "      <td>1.000000</td>\n",
       "      <td>0.814613</td>\n",
       "      <td>0.729433</td>\n",
       "      <td>0.525697</td>\n",
       "      <td>0.635145</td>\n",
       "      <td>0.635145</td>\n",
       "      <td>0.655236</td>\n",
       "    </tr>\n",
       "    <tr>\n",
       "      <th>compliment_list</th>\n",
       "      <td>0.176971</td>\n",
       "      <td>0.262225</td>\n",
       "      <td>0.254847</td>\n",
       "      <td>0.258147</td>\n",
       "      <td>0.170375</td>\n",
       "      <td>0.171907</td>\n",
       "      <td>-0.002399</td>\n",
       "      <td>0.562339</td>\n",
       "      <td>0.944633</td>\n",
       "      <td>0.949975</td>\n",
       "      <td>0.814613</td>\n",
       "      <td>1.000000</td>\n",
       "      <td>0.681746</td>\n",
       "      <td>0.409282</td>\n",
       "      <td>0.516315</td>\n",
       "      <td>0.516315</td>\n",
       "      <td>0.641926</td>\n",
       "    </tr>\n",
       "    <tr>\n",
       "      <th>compliment_note</th>\n",
       "      <td>0.447449</td>\n",
       "      <td>0.657270</td>\n",
       "      <td>0.615432</td>\n",
       "      <td>0.644899</td>\n",
       "      <td>0.502204</td>\n",
       "      <td>0.456956</td>\n",
       "      <td>-0.001508</td>\n",
       "      <td>0.849045</td>\n",
       "      <td>0.796831</td>\n",
       "      <td>0.699987</td>\n",
       "      <td>0.729433</td>\n",
       "      <td>0.681746</td>\n",
       "      <td>1.000000</td>\n",
       "      <td>0.810538</td>\n",
       "      <td>0.889945</td>\n",
       "      <td>0.889945</td>\n",
       "      <td>0.843540</td>\n",
       "    </tr>\n",
       "    <tr>\n",
       "      <th>compliment_plain</th>\n",
       "      <td>0.372380</td>\n",
       "      <td>0.627849</td>\n",
       "      <td>0.586199</td>\n",
       "      <td>0.618947</td>\n",
       "      <td>0.511819</td>\n",
       "      <td>0.476199</td>\n",
       "      <td>0.007923</td>\n",
       "      <td>0.734313</td>\n",
       "      <td>0.519931</td>\n",
       "      <td>0.418886</td>\n",
       "      <td>0.525697</td>\n",
       "      <td>0.409282</td>\n",
       "      <td>0.810538</td>\n",
       "      <td>1.000000</td>\n",
       "      <td>0.862695</td>\n",
       "      <td>0.862695</td>\n",
       "      <td>0.725266</td>\n",
       "    </tr>\n",
       "    <tr>\n",
       "      <th>compliment_cool</th>\n",
       "      <td>0.428973</td>\n",
       "      <td>0.719779</td>\n",
       "      <td>0.703595</td>\n",
       "      <td>0.726641</td>\n",
       "      <td>0.480130</td>\n",
       "      <td>0.438780</td>\n",
       "      <td>0.002911</td>\n",
       "      <td>0.937841</td>\n",
       "      <td>0.663160</td>\n",
       "      <td>0.549567</td>\n",
       "      <td>0.635145</td>\n",
       "      <td>0.516315</td>\n",
       "      <td>0.889945</td>\n",
       "      <td>0.862695</td>\n",
       "      <td>1.000000</td>\n",
       "      <td>1.000000</td>\n",
       "      <td>0.881425</td>\n",
       "    </tr>\n",
       "    <tr>\n",
       "      <th>compliment_funny</th>\n",
       "      <td>0.428973</td>\n",
       "      <td>0.719779</td>\n",
       "      <td>0.703595</td>\n",
       "      <td>0.726641</td>\n",
       "      <td>0.480130</td>\n",
       "      <td>0.438780</td>\n",
       "      <td>0.002911</td>\n",
       "      <td>0.937841</td>\n",
       "      <td>0.663160</td>\n",
       "      <td>0.549567</td>\n",
       "      <td>0.635145</td>\n",
       "      <td>0.516315</td>\n",
       "      <td>0.889945</td>\n",
       "      <td>0.862695</td>\n",
       "      <td>1.000000</td>\n",
       "      <td>1.000000</td>\n",
       "      <td>0.881425</td>\n",
       "    </tr>\n",
       "    <tr>\n",
       "      <th>compliment_writer</th>\n",
       "      <td>0.461522</td>\n",
       "      <td>0.726829</td>\n",
       "      <td>0.699899</td>\n",
       "      <td>0.720056</td>\n",
       "      <td>0.460217</td>\n",
       "      <td>0.422488</td>\n",
       "      <td>-0.000883</td>\n",
       "      <td>0.847788</td>\n",
       "      <td>0.781292</td>\n",
       "      <td>0.681347</td>\n",
       "      <td>0.655236</td>\n",
       "      <td>0.641926</td>\n",
       "      <td>0.843540</td>\n",
       "      <td>0.725266</td>\n",
       "      <td>0.881425</td>\n",
       "      <td>0.881425</td>\n",
       "      <td>1.000000</td>\n",
       "    </tr>\n",
       "  </tbody>\n",
       "</table>\n",
       "</div>"
      ],
      "text/plain": [
       "                    review_count   friends    useful     funny      fans  \\\n",
       "review_count            1.000000  0.711769  0.619039  0.647537  0.513226   \n",
       "friends                 0.711769  1.000000  0.960604  0.991589  0.574577   \n",
       "useful                  0.619039  0.960604  1.000000  0.975895  0.492673   \n",
       "funny                   0.647537  0.991589  0.975895  1.000000  0.534006   \n",
       "fans                    0.513226  0.574577  0.492673  0.534006  1.000000   \n",
       "elite                   0.472279  0.574193  0.523410  0.539248  0.574001   \n",
       "average_stars          -0.044503 -0.008711 -0.007591  0.001484  0.033652   \n",
       "compliment_hot          0.372344  0.635415  0.634971  0.647211  0.422232   \n",
       "compliment_more         0.272825  0.419372  0.407670  0.418956  0.255388   \n",
       "compliment_profile      0.166503  0.283000  0.281452  0.288027  0.150471   \n",
       "compliment_cute         0.227501  0.341022  0.345121  0.342214  0.296067   \n",
       "compliment_list         0.176971  0.262225  0.254847  0.258147  0.170375   \n",
       "compliment_note         0.447449  0.657270  0.615432  0.644899  0.502204   \n",
       "compliment_plain        0.372380  0.627849  0.586199  0.618947  0.511819   \n",
       "compliment_cool         0.428973  0.719779  0.703595  0.726641  0.480130   \n",
       "compliment_funny        0.428973  0.719779  0.703595  0.726641  0.480130   \n",
       "compliment_writer       0.461522  0.726829  0.699899  0.720056  0.460217   \n",
       "\n",
       "                       elite  average_stars  compliment_hot  compliment_more  \\\n",
       "review_count        0.472279      -0.044503        0.372344         0.272825   \n",
       "friends             0.574193      -0.008711        0.635415         0.419372   \n",
       "useful              0.523410      -0.007591        0.634971         0.407670   \n",
       "funny               0.539248       0.001484        0.647211         0.418956   \n",
       "fans                0.574001       0.033652        0.422232         0.255388   \n",
       "elite               1.000000       0.004782        0.379668         0.243709   \n",
       "average_stars       0.004782       1.000000        0.003194        -0.004146   \n",
       "compliment_hot      0.379668       0.003194        1.000000         0.689254   \n",
       "compliment_more     0.243709      -0.004146        0.689254         1.000000   \n",
       "compliment_profile  0.144314      -0.000604        0.592210         0.972656   \n",
       "compliment_cute     0.294399       0.000672        0.739594         0.823449   \n",
       "compliment_list     0.171907      -0.002399        0.562339         0.944633   \n",
       "compliment_note     0.456956      -0.001508        0.849045         0.796831   \n",
       "compliment_plain    0.476199       0.007923        0.734313         0.519931   \n",
       "compliment_cool     0.438780       0.002911        0.937841         0.663160   \n",
       "compliment_funny    0.438780       0.002911        0.937841         0.663160   \n",
       "compliment_writer   0.422488      -0.000883        0.847788         0.781292   \n",
       "\n",
       "                    compliment_profile  compliment_cute  compliment_list  \\\n",
       "review_count                  0.166503         0.227501         0.176971   \n",
       "friends                       0.283000         0.341022         0.262225   \n",
       "useful                        0.281452         0.345121         0.254847   \n",
       "funny                         0.288027         0.342214         0.258147   \n",
       "fans                          0.150471         0.296067         0.170375   \n",
       "elite                         0.144314         0.294399         0.171907   \n",
       "average_stars                -0.000604         0.000672        -0.002399   \n",
       "compliment_hot                0.592210         0.739594         0.562339   \n",
       "compliment_more               0.972656         0.823449         0.944633   \n",
       "compliment_profile            1.000000         0.786350         0.949975   \n",
       "compliment_cute               0.786350         1.000000         0.814613   \n",
       "compliment_list               0.949975         0.814613         1.000000   \n",
       "compliment_note               0.699987         0.729433         0.681746   \n",
       "compliment_plain              0.418886         0.525697         0.409282   \n",
       "compliment_cool               0.549567         0.635145         0.516315   \n",
       "compliment_funny              0.549567         0.635145         0.516315   \n",
       "compliment_writer             0.681347         0.655236         0.641926   \n",
       "\n",
       "                    compliment_note  compliment_plain  compliment_cool  \\\n",
       "review_count               0.447449          0.372380         0.428973   \n",
       "friends                    0.657270          0.627849         0.719779   \n",
       "useful                     0.615432          0.586199         0.703595   \n",
       "funny                      0.644899          0.618947         0.726641   \n",
       "fans                       0.502204          0.511819         0.480130   \n",
       "elite                      0.456956          0.476199         0.438780   \n",
       "average_stars             -0.001508          0.007923         0.002911   \n",
       "compliment_hot             0.849045          0.734313         0.937841   \n",
       "compliment_more            0.796831          0.519931         0.663160   \n",
       "compliment_profile         0.699987          0.418886         0.549567   \n",
       "compliment_cute            0.729433          0.525697         0.635145   \n",
       "compliment_list            0.681746          0.409282         0.516315   \n",
       "compliment_note            1.000000          0.810538         0.889945   \n",
       "compliment_plain           0.810538          1.000000         0.862695   \n",
       "compliment_cool            0.889945          0.862695         1.000000   \n",
       "compliment_funny           0.889945          0.862695         1.000000   \n",
       "compliment_writer          0.843540          0.725266         0.881425   \n",
       "\n",
       "                    compliment_funny  compliment_writer  \n",
       "review_count                0.428973           0.461522  \n",
       "friends                     0.719779           0.726829  \n",
       "useful                      0.703595           0.699899  \n",
       "funny                       0.726641           0.720056  \n",
       "fans                        0.480130           0.460217  \n",
       "elite                       0.438780           0.422488  \n",
       "average_stars               0.002911          -0.000883  \n",
       "compliment_hot              0.937841           0.847788  \n",
       "compliment_more             0.663160           0.781292  \n",
       "compliment_profile          0.549567           0.681347  \n",
       "compliment_cute             0.635145           0.655236  \n",
       "compliment_list             0.516315           0.641926  \n",
       "compliment_note             0.889945           0.843540  \n",
       "compliment_plain            0.862695           0.725266  \n",
       "compliment_cool             1.000000           0.881425  \n",
       "compliment_funny            1.000000           0.881425  \n",
       "compliment_writer           0.881425           1.000000  "
      ]
     },
     "execution_count": 32,
     "metadata": {},
     "output_type": "execute_result"
    }
   ],
   "source": [
    "#find correlation amongst columns\n",
    "dfp.corr()"
   ]
  },
  {
   "cell_type": "code",
   "execution_count": 33,
   "metadata": {},
   "outputs": [],
   "source": [
    "#drop the columns below because they have a very low correlation with other columns\n",
    "df = df.drop( \"fans\", \"average_stars\")"
   ]
  },
  {
   "cell_type": "code",
   "execution_count": 34,
   "metadata": {},
   "outputs": [
    {
     "data": {
      "text/plain": [
       "15"
      ]
     },
     "execution_count": 34,
     "metadata": {},
     "output_type": "execute_result"
    }
   ],
   "source": [
    "#New number of columns\n",
    "len(df.columns)"
   ]
  },
  {
   "cell_type": "code",
   "execution_count": 35,
   "metadata": {},
   "outputs": [],
   "source": [
    "#sum all the compliments to compliments_given\n",
    "df = df.withColumn(\"compliments_given\", col(\"compliment_hot\")+col(\"compliment_more\")+col(\"compliment_profile\")+col(\"compliment_note\")+col(\"compliment_plain\")+col(\"compliment_cool\")+col(\"compliment_funny\")+col(\"compliment_writer\")+col(\"compliment_cute\")+col(\"compliment_list\"))\n"
   ]
  },
  {
   "cell_type": "code",
   "execution_count": 36,
   "metadata": {},
   "outputs": [],
   "source": [
    "#remove those columns that were summed\n",
    "df = df.drop(\"compliment_hot\", \"compliment_more\", \"compliment_profile\", \"compliment_note\", \"compliment_plain\", \"compliment_cool\", \"compliment_funny\", \"compliment_writer\",\"compliment_cute\",\"compliment_list\")\n"
   ]
  },
  {
   "cell_type": "code",
   "execution_count": 37,
   "metadata": {},
   "outputs": [],
   "source": [
    "#sum these columns to compliments_received\n",
    "df = df.withColumn(\"compliments_received\", col(\"useful\")+col(\"funny\"))"
   ]
  },
  {
   "cell_type": "code",
   "execution_count": 38,
   "metadata": {},
   "outputs": [],
   "source": [
    "#drop the summed columns\n",
    "df = df.drop(\"useful\", \"funny\")"
   ]
  },
  {
   "cell_type": "code",
   "execution_count": 39,
   "metadata": {},
   "outputs": [
    {
     "name": "stdout",
     "output_type": "stream",
     "text": [
      "+------------+-------+-----+-----------------+--------------------+\n",
      "|review_count|friends|elite|compliments_given|compliments_received|\n",
      "+------------+-------+-----+-----------------+--------------------+\n",
      "|         585|   7217|  267|             2693|                7253|\n",
      "|        4333|  43091| 3138|            18685|               40347|\n",
      "|         665|   2086|   52|              567|                2013|\n",
      "|         224|    512|   28|              127|                 629|\n",
      "|          79|     29|    1|                4|                  22|\n",
      "|        1221|  14953| 1357|            15384|               21151|\n",
      "|          12|      6|    1|                1|                   1|\n",
      "|         358|    399|   23|               56|                 245|\n",
      "|          40|    109|    7|               25|                  86|\n",
      "|         109|    154|    4|               13|                  43|\n",
      "|           4|      1|    1|                0|                   1|\n",
      "|         535|   1130|   31|              209|                1060|\n",
      "|          37|     63|    4|               11|                  30|\n",
      "|          11|     30|    0|                0|                   3|\n",
      "|           7|     18|    1|                6|                  16|\n",
      "|         682|   1819|   44|             1014|                2435|\n",
      "|          25|     29|    1|               14|                  21|\n",
      "|          37|     56|    9|              194|                  58|\n",
      "|         607|   4573|  131|             3973|                7863|\n",
      "|         133|    201|    4|                8|                  96|\n",
      "+------------+-------+-----+-----------------+--------------------+\n",
      "only showing top 20 rows\n",
      "\n"
     ]
    }
   ],
   "source": [
    "df.show()"
   ]
  },
  {
   "cell_type": "code",
   "execution_count": 40,
   "metadata": {},
   "outputs": [
    {
     "data": {
      "text/plain": [
       "DataFrame[review_count: int, friends: int, elite: int, compliments_given: int, compliments_received: int]"
      ]
     },
     "execution_count": 40,
     "metadata": {},
     "output_type": "execute_result"
    }
   ],
   "source": [
    "df"
   ]
  },
  {
   "cell_type": "code",
   "execution_count": 41,
   "metadata": {},
   "outputs": [
    {
     "data": {
      "text/html": [
       "<div>\n",
       "<style scoped>\n",
       "    .dataframe tbody tr th:only-of-type {\n",
       "        vertical-align: middle;\n",
       "    }\n",
       "\n",
       "    .dataframe tbody tr th {\n",
       "        vertical-align: top;\n",
       "    }\n",
       "\n",
       "    .dataframe thead th {\n",
       "        text-align: right;\n",
       "    }\n",
       "</style>\n",
       "<table border=\"1\" class=\"dataframe\">\n",
       "  <thead>\n",
       "    <tr style=\"text-align: right;\">\n",
       "      <th></th>\n",
       "      <th>review_count</th>\n",
       "      <th>friends</th>\n",
       "      <th>useful</th>\n",
       "      <th>funny</th>\n",
       "      <th>fans</th>\n",
       "      <th>elite</th>\n",
       "      <th>average_stars</th>\n",
       "      <th>compliment_hot</th>\n",
       "      <th>compliment_more</th>\n",
       "      <th>compliment_profile</th>\n",
       "      <th>compliment_cute</th>\n",
       "      <th>compliment_list</th>\n",
       "      <th>compliment_note</th>\n",
       "      <th>compliment_plain</th>\n",
       "      <th>compliment_cool</th>\n",
       "      <th>compliment_funny</th>\n",
       "      <th>compliment_writer</th>\n",
       "    </tr>\n",
       "  </thead>\n",
       "  <tbody>\n",
       "    <tr>\n",
       "      <th>count</th>\n",
       "      <td>29398.000000</td>\n",
       "      <td>29398.000000</td>\n",
       "      <td>29398.000000</td>\n",
       "      <td>29398.000000</td>\n",
       "      <td>29398.000000</td>\n",
       "      <td>29398.000000</td>\n",
       "      <td>29398.000000</td>\n",
       "      <td>29398.000000</td>\n",
       "      <td>29398.000000</td>\n",
       "      <td>29398.000000</td>\n",
       "      <td>29398.000000</td>\n",
       "      <td>29398.000000</td>\n",
       "      <td>29398.000000</td>\n",
       "      <td>29398.000000</td>\n",
       "      <td>29398.000000</td>\n",
       "      <td>29398.000000</td>\n",
       "      <td>29398.000000</td>\n",
       "    </tr>\n",
       "    <tr>\n",
       "      <th>mean</th>\n",
       "      <td>172.037724</td>\n",
       "      <td>476.623206</td>\n",
       "      <td>224.544153</td>\n",
       "      <td>298.495714</td>\n",
       "      <td>173.625213</td>\n",
       "      <td>16.508776</td>\n",
       "      <td>3.837293</td>\n",
       "      <td>25.819443</td>\n",
       "      <td>3.906592</td>\n",
       "      <td>2.836928</td>\n",
       "      <td>2.109803</td>\n",
       "      <td>1.304817</td>\n",
       "      <td>18.051908</td>\n",
       "      <td>41.590210</td>\n",
       "      <td>38.153922</td>\n",
       "      <td>38.153922</td>\n",
       "      <td>15.100313</td>\n",
       "    </tr>\n",
       "    <tr>\n",
       "      <th>std</th>\n",
       "      <td>369.394743</td>\n",
       "      <td>2699.551489</td>\n",
       "      <td>1816.941171</td>\n",
       "      <td>2323.983803</td>\n",
       "      <td>408.185862</td>\n",
       "      <td>100.720936</td>\n",
       "      <td>0.513744</td>\n",
       "      <td>219.450874</td>\n",
       "      <td>38.586167</td>\n",
       "      <td>57.806134</td>\n",
       "      <td>23.054536</td>\n",
       "      <td>23.087356</td>\n",
       "      <td>119.174260</td>\n",
       "      <td>382.939193</td>\n",
       "      <td>295.524218</td>\n",
       "      <td>295.524218</td>\n",
       "      <td>113.401363</td>\n",
       "    </tr>\n",
       "    <tr>\n",
       "      <th>min</th>\n",
       "      <td>1.000000</td>\n",
       "      <td>0.000000</td>\n",
       "      <td>0.000000</td>\n",
       "      <td>0.000000</td>\n",
       "      <td>1.000000</td>\n",
       "      <td>0.000000</td>\n",
       "      <td>1.000000</td>\n",
       "      <td>0.000000</td>\n",
       "      <td>0.000000</td>\n",
       "      <td>0.000000</td>\n",
       "      <td>0.000000</td>\n",
       "      <td>0.000000</td>\n",
       "      <td>0.000000</td>\n",
       "      <td>0.000000</td>\n",
       "      <td>0.000000</td>\n",
       "      <td>0.000000</td>\n",
       "      <td>0.000000</td>\n",
       "    </tr>\n",
       "    <tr>\n",
       "      <th>25%</th>\n",
       "      <td>21.000000</td>\n",
       "      <td>24.000000</td>\n",
       "      <td>5.000000</td>\n",
       "      <td>6.000000</td>\n",
       "      <td>20.000000</td>\n",
       "      <td>1.000000</td>\n",
       "      <td>3.570000</td>\n",
       "      <td>0.000000</td>\n",
       "      <td>0.000000</td>\n",
       "      <td>0.000000</td>\n",
       "      <td>0.000000</td>\n",
       "      <td>0.000000</td>\n",
       "      <td>0.000000</td>\n",
       "      <td>0.000000</td>\n",
       "      <td>0.000000</td>\n",
       "      <td>0.000000</td>\n",
       "      <td>0.000000</td>\n",
       "    </tr>\n",
       "    <tr>\n",
       "      <th>50%</th>\n",
       "      <td>57.000000</td>\n",
       "      <td>76.000000</td>\n",
       "      <td>20.000000</td>\n",
       "      <td>24.000000</td>\n",
       "      <td>65.000000</td>\n",
       "      <td>3.000000</td>\n",
       "      <td>3.850000</td>\n",
       "      <td>1.000000</td>\n",
       "      <td>1.000000</td>\n",
       "      <td>0.000000</td>\n",
       "      <td>0.000000</td>\n",
       "      <td>0.000000</td>\n",
       "      <td>2.000000</td>\n",
       "      <td>2.000000</td>\n",
       "      <td>2.000000</td>\n",
       "      <td>2.000000</td>\n",
       "      <td>1.000000</td>\n",
       "    </tr>\n",
       "    <tr>\n",
       "      <th>75%</th>\n",
       "      <td>174.750000</td>\n",
       "      <td>276.000000</td>\n",
       "      <td>87.000000</td>\n",
       "      <td>106.000000</td>\n",
       "      <td>181.000000</td>\n",
       "      <td>10.000000</td>\n",
       "      <td>4.140000</td>\n",
       "      <td>6.000000</td>\n",
       "      <td>2.000000</td>\n",
       "      <td>1.000000</td>\n",
       "      <td>0.000000</td>\n",
       "      <td>0.000000</td>\n",
       "      <td>7.000000</td>\n",
       "      <td>9.000000</td>\n",
       "      <td>10.000000</td>\n",
       "      <td>10.000000</td>\n",
       "      <td>5.000000</td>\n",
       "    </tr>\n",
       "    <tr>\n",
       "      <th>max</th>\n",
       "      <td>17473.000000</td>\n",
       "      <td>206296.000000</td>\n",
       "      <td>185823.000000</td>\n",
       "      <td>195814.000000</td>\n",
       "      <td>14995.000000</td>\n",
       "      <td>12497.000000</td>\n",
       "      <td>5.000000</td>\n",
       "      <td>12391.000000</td>\n",
       "      <td>4347.000000</td>\n",
       "      <td>7039.000000</td>\n",
       "      <td>1744.000000</td>\n",
       "      <td>2607.000000</td>\n",
       "      <td>8616.000000</td>\n",
       "      <td>28974.000000</td>\n",
       "      <td>13280.000000</td>\n",
       "      <td>13280.000000</td>\n",
       "      <td>7309.000000</td>\n",
       "    </tr>\n",
       "  </tbody>\n",
       "</table>\n",
       "</div>"
      ],
      "text/plain": [
       "       review_count        friends         useful          funny  \\\n",
       "count  29398.000000   29398.000000   29398.000000   29398.000000   \n",
       "mean     172.037724     476.623206     224.544153     298.495714   \n",
       "std      369.394743    2699.551489    1816.941171    2323.983803   \n",
       "min        1.000000       0.000000       0.000000       0.000000   \n",
       "25%       21.000000      24.000000       5.000000       6.000000   \n",
       "50%       57.000000      76.000000      20.000000      24.000000   \n",
       "75%      174.750000     276.000000      87.000000     106.000000   \n",
       "max    17473.000000  206296.000000  185823.000000  195814.000000   \n",
       "\n",
       "               fans         elite  average_stars  compliment_hot  \\\n",
       "count  29398.000000  29398.000000   29398.000000    29398.000000   \n",
       "mean     173.625213     16.508776       3.837293       25.819443   \n",
       "std      408.185862    100.720936       0.513744      219.450874   \n",
       "min        1.000000      0.000000       1.000000        0.000000   \n",
       "25%       20.000000      1.000000       3.570000        0.000000   \n",
       "50%       65.000000      3.000000       3.850000        1.000000   \n",
       "75%      181.000000     10.000000       4.140000        6.000000   \n",
       "max    14995.000000  12497.000000       5.000000    12391.000000   \n",
       "\n",
       "       compliment_more  compliment_profile  compliment_cute  compliment_list  \\\n",
       "count     29398.000000        29398.000000     29398.000000     29398.000000   \n",
       "mean          3.906592            2.836928         2.109803         1.304817   \n",
       "std          38.586167           57.806134        23.054536        23.087356   \n",
       "min           0.000000            0.000000         0.000000         0.000000   \n",
       "25%           0.000000            0.000000         0.000000         0.000000   \n",
       "50%           1.000000            0.000000         0.000000         0.000000   \n",
       "75%           2.000000            1.000000         0.000000         0.000000   \n",
       "max        4347.000000         7039.000000      1744.000000      2607.000000   \n",
       "\n",
       "       compliment_note  compliment_plain  compliment_cool  compliment_funny  \\\n",
       "count     29398.000000      29398.000000     29398.000000      29398.000000   \n",
       "mean         18.051908         41.590210        38.153922         38.153922   \n",
       "std         119.174260        382.939193       295.524218        295.524218   \n",
       "min           0.000000          0.000000         0.000000          0.000000   \n",
       "25%           0.000000          0.000000         0.000000          0.000000   \n",
       "50%           2.000000          2.000000         2.000000          2.000000   \n",
       "75%           7.000000          9.000000        10.000000         10.000000   \n",
       "max        8616.000000      28974.000000     13280.000000      13280.000000   \n",
       "\n",
       "       compliment_writer  \n",
       "count       29398.000000  \n",
       "mean           15.100313  \n",
       "std           113.401363  \n",
       "min             0.000000  \n",
       "25%             0.000000  \n",
       "50%             1.000000  \n",
       "75%             5.000000  \n",
       "max          7309.000000  "
      ]
     },
     "execution_count": 41,
     "metadata": {},
     "output_type": "execute_result"
    }
   ],
   "source": [
    "dfp.describe()"
   ]
  },
  {
   "cell_type": "code",
   "execution_count": 40,
   "metadata": {},
   "outputs": [
    {
     "data": {
      "image/png": "[encoded data removed]",
      "text/plain": [
       "<Figure size 500x500 with 1 Axes>"
      ]
     },
     "metadata": {},
     "output_type": "display_data"
    }
   ],
   "source": [
    "#histogram plot. Skewness in the right\n",
    "sns.displot(dfp[\"friends\"],binwidth= 1000)\n",
    "plt.show()"
   ]
  },
  {
   "cell_type": "code",
   "execution_count": 41,
   "metadata": {},
   "outputs": [
    {
     "data": {
      "image/png": "[encoded data removed]",
      "text/plain": [
       "<Figure size 500x500 with 1 Axes>"
      ]
     },
     "metadata": {},
     "output_type": "display_data"
    }
   ],
   "source": [
    "#histogram plot. Skewness in the right\n",
    "sns.displot(dfp[\"review_count\"],binwidth=100)\n",
    "plt.show()"
   ]
  },
  {
   "cell_type": "code",
   "execution_count": 42,
   "metadata": {},
   "outputs": [
    {
     "data": {
      "image/png": "[encoded data removed]",
      "text/plain": [
       "<Figure size 500x500 with 1 Axes>"
      ]
     },
     "metadata": {},
     "output_type": "display_data"
    }
   ],
   "source": [
    "#histogram plot. Skewness in the right\n",
    "sns.displot(dfp[\"elite\"],binwidth=100)\n",
    "plt.show()"
   ]
  },
  {
   "cell_type": "code",
   "execution_count": 44,
   "metadata": {},
   "outputs": [
    {
     "name": "stdout",
     "output_type": "stream",
     "text": [
      "review_count done\n",
      "friends done\n",
      "elite done\n",
      "compliments_given done\n",
      "compliments_received done\n"
     ]
    }
   ],
   "source": [
    "#calculate approx quantile of 0.01 and 0.9\n",
    "d = {}\n",
    "for column in df.columns:\n",
    "      d[column] = df.approxQuantile(column,[0.01,0.9],0.25)\n",
    "      print(column+\" done\")"
   ]
  },
  {
   "cell_type": "code",
   "execution_count": 45,
   "metadata": {},
   "outputs": [
    {
     "name": "stdout",
     "output_type": "stream",
     "text": [
      "{'review_count': [1.0, 17473.0], 'friends': [0.0, 206296.0], 'elite': [0.0, 12497.0], 'compliments_given': [0.0, 80800.0], 'compliments_received': [0.0, 381637.0]}\n"
     ]
    }
   ],
   "source": [
    "#print quantiles for each column\n",
    "print(d)"
   ]
  },
  {
   "cell_type": "code",
   "execution_count": 46,
   "metadata": {},
   "outputs": [
    {
     "name": "stdout",
     "output_type": "stream",
     "text": [
      "review_count done\n",
      "friends done\n",
      "elite done\n",
      "compliments_given done\n",
      "compliments_received done\n"
     ]
    }
   ],
   "source": [
    "# Log transform the columns and limit the extreme ends to 0.01 and 0.9 quantiles\n",
    "for column in df.columns:\n",
    "    df = df.withColumn(column, log(when(df[column] < d[column][0], d[column][0])\n",
    "                                   .when(df[column] > d[column][1], d[column][1])\n",
    "                                   .otherwise(df[column]) + 1).alias(column))\n",
    "    print(column + \" done\")\n"
   ]
  },
  {
   "cell_type": "code",
   "execution_count": 47,
   "metadata": {},
   "outputs": [
    {
     "name": "stdout",
     "output_type": "stream",
     "text": [
      "root\n",
      " |-- review_count: double (nullable = true)\n",
      " |-- friends: double (nullable = true)\n",
      " |-- elite: double (nullable = true)\n",
      " |-- compliments_given: double (nullable = true)\n",
      " |-- compliments_received: double (nullable = true)\n",
      "\n"
     ]
    }
   ],
   "source": [
    "df.printSchema()"
   ]
  },
  {
   "cell_type": "code",
   "execution_count": 47,
   "metadata": {},
   "outputs": [],
   "source": [
    "dfpp = df.toPandas()"
   ]
  },
  {
   "cell_type": "code",
   "execution_count": 48,
   "metadata": {},
   "outputs": [
    {
     "data": {
      "image/png": "[encoded data removed]",
      "text/plain": [
       "<Figure size 500x500 with 1 Axes>"
      ]
     },
     "metadata": {},
     "output_type": "display_data"
    }
   ],
   "source": [
    "#after log transform\n",
    "sns.displot(dfpp[\"friends\"],binwidth=0.5)\n",
    "plt.show()"
   ]
  },
  {
   "cell_type": "code",
   "execution_count": 49,
   "metadata": {},
   "outputs": [
    {
     "data": {
      "image/png": "[encoded data removed]",
      "text/plain": [
       "<Figure size 500x500 with 1 Axes>"
      ]
     },
     "metadata": {},
     "output_type": "display_data"
    }
   ],
   "source": [
    "#after log transform\n",
    "sns.displot(dfpp[\"review_count\"],binwidth = 0.9)\n",
    "plt.show()"
   ]
  },
  {
   "cell_type": "code",
   "execution_count": 50,
   "metadata": {},
   "outputs": [
    {
     "data": {
      "image/png": "[encoded data removed]",
      "text/plain": [
       "<Figure size 500x500 with 1 Axes>"
      ]
     },
     "metadata": {},
     "output_type": "display_data"
    }
   ],
   "source": [
    "#after log transform\n",
    "sns.displot(dfpp[\"elite\"],binwidth = 0.9)\n",
    "plt.show()"
   ]
  },
  {
   "cell_type": "code",
   "execution_count": 51,
   "metadata": {},
   "outputs": [
    {
     "data": {
      "text/html": [
       "<div>\n",
       "<style scoped>\n",
       "    .dataframe tbody tr th:only-of-type {\n",
       "        vertical-align: middle;\n",
       "    }\n",
       "\n",
       "    .dataframe tbody tr th {\n",
       "        vertical-align: top;\n",
       "    }\n",
       "\n",
       "    .dataframe thead th {\n",
       "        text-align: right;\n",
       "    }\n",
       "</style>\n",
       "<table border=\"1\" class=\"dataframe\">\n",
       "  <thead>\n",
       "    <tr style=\"text-align: right;\">\n",
       "      <th></th>\n",
       "      <th>review_count</th>\n",
       "      <th>friends</th>\n",
       "      <th>elite</th>\n",
       "      <th>compliments_given</th>\n",
       "      <th>compliments_received</th>\n",
       "    </tr>\n",
       "  </thead>\n",
       "  <tbody>\n",
       "    <tr>\n",
       "      <th>count</th>\n",
       "      <td>29398.000000</td>\n",
       "      <td>29398.000000</td>\n",
       "      <td>29398.000000</td>\n",
       "      <td>29398.000000</td>\n",
       "      <td>29398.000000</td>\n",
       "    </tr>\n",
       "    <tr>\n",
       "      <th>mean</th>\n",
       "      <td>4.125906</td>\n",
       "      <td>4.418513</td>\n",
       "      <td>1.596074</td>\n",
       "      <td>2.732068</td>\n",
       "      <td>3.947974</td>\n",
       "    </tr>\n",
       "    <tr>\n",
       "      <th>std</th>\n",
       "      <td>1.449959</td>\n",
       "      <td>1.793348</td>\n",
       "      <td>1.352804</td>\n",
       "      <td>1.923847</td>\n",
       "      <td>2.002190</td>\n",
       "    </tr>\n",
       "    <tr>\n",
       "      <th>min</th>\n",
       "      <td>0.693147</td>\n",
       "      <td>0.000000</td>\n",
       "      <td>0.000000</td>\n",
       "      <td>0.000000</td>\n",
       "      <td>0.000000</td>\n",
       "    </tr>\n",
       "    <tr>\n",
       "      <th>25%</th>\n",
       "      <td>3.091042</td>\n",
       "      <td>3.218876</td>\n",
       "      <td>0.693147</td>\n",
       "      <td>1.386294</td>\n",
       "      <td>2.484907</td>\n",
       "    </tr>\n",
       "    <tr>\n",
       "      <th>50%</th>\n",
       "      <td>4.060443</td>\n",
       "      <td>4.343805</td>\n",
       "      <td>1.386294</td>\n",
       "      <td>2.397895</td>\n",
       "      <td>3.806662</td>\n",
       "    </tr>\n",
       "    <tr>\n",
       "      <th>75%</th>\n",
       "      <td>5.169059</td>\n",
       "      <td>5.624018</td>\n",
       "      <td>2.397895</td>\n",
       "      <td>3.988984</td>\n",
       "      <td>5.278115</td>\n",
       "    </tr>\n",
       "    <tr>\n",
       "      <th>max</th>\n",
       "      <td>9.768469</td>\n",
       "      <td>12.237072</td>\n",
       "      <td>9.433324</td>\n",
       "      <td>11.299745</td>\n",
       "      <td>12.852228</td>\n",
       "    </tr>\n",
       "  </tbody>\n",
       "</table>\n",
       "</div>"
      ],
      "text/plain": [
       "       review_count       friends         elite  compliments_given  \\\n",
       "count  29398.000000  29398.000000  29398.000000       29398.000000   \n",
       "mean       4.125906      4.418513      1.596074           2.732068   \n",
       "std        1.449959      1.793348      1.352804           1.923847   \n",
       "min        0.693147      0.000000      0.000000           0.000000   \n",
       "25%        3.091042      3.218876      0.693147           1.386294   \n",
       "50%        4.060443      4.343805      1.386294           2.397895   \n",
       "75%        5.169059      5.624018      2.397895           3.988984   \n",
       "max        9.768469     12.237072      9.433324          11.299745   \n",
       "\n",
       "       compliments_received  \n",
       "count          29398.000000  \n",
       "mean               3.947974  \n",
       "std                2.002190  \n",
       "min                0.000000  \n",
       "25%                2.484907  \n",
       "50%                3.806662  \n",
       "75%                5.278115  \n",
       "max               12.852228  "
      ]
     },
     "execution_count": 51,
     "metadata": {},
     "output_type": "execute_result"
    }
   ],
   "source": [
    "#after log transform\n",
    "dfpp.describe()"
   ]
  },
  {
   "cell_type": "code",
   "execution_count": 48,
   "metadata": {},
   "outputs": [
    {
     "name": "stderr",
     "output_type": "stream",
     "text": [
      "                                                                                \r"
     ]
    }
   ],
   "source": [
    "#To save in a delta table\n",
    "#df.write.mode(\"overwrite\").format(\"delta\").saveAsTable(\"table\", path = \"finalData\")\n",
    "df.write.mode(\"overwrite\").format(\"delta\").saveAsTable(\"table\", path = \"hdfs://namenode:9000/dat/finalData\")"
   ]
  },
  {
   "cell_type": "code",
   "execution_count": 49,
   "metadata": {},
   "outputs": [],
   "source": [
    "\n",
    "dff = spark.read.format(\"delta\").load(\"hdfs://namenode:9000/dat/finalData\")"
   ]
  },
  {
   "cell_type": "code",
   "execution_count": 50,
   "metadata": {},
   "outputs": [],
   "source": [
    "class KMeans:\n",
    "    def __init__(self, n_clusters=2, max_itr=100):\n",
    "        self.n_clusters = n_clusters\n",
    "        self.max_itr = max_itr\n",
    "    \n",
    "    def calculate_distance(self, centroids, data):\n",
    "        distance = centroids.crossJoin(data)\n",
    "        columns = data.columns\n",
    "        columns.remove(\"id\")\n",
    "        for colname in columns:\n",
    "            distance = distance.withColumn(colname, col(colname) - col(\"centroid_\" + colname))\n",
    "        for column in columns:\n",
    "            distance = distance.drop(\"centroid_\"+column)\n",
    "        distance = distance.withColumn(\"distance\", sqrt(sum(col(colname) ** 2 for colname in columns)))\n",
    "        return distance\n",
    "    \n",
    "    def calculate_difference(self, centroid1, centroid2):\n",
    "        \n",
    "        centroid1 = centroid1.sort(\"centroid_id\")\n",
    "        centroid2 = centroid2.sort(\"centroid_id\")\n",
    "        for column in centroid1.columns:\n",
    "            if column != \"centroid_id\":\n",
    "                centroid1 = centroid1.withColumnRenamed(column, \"first_\"+column)\n",
    "        distance = centroid1.join(centroid2, [\"centroid_id\"])\n",
    "        columns = centroid2.columns\n",
    "        columns.remove(\"centroid_id\")\n",
    "        \n",
    "        for colname in columns:\n",
    "            distance = distance.withColumn(colname, col(colname) - col(\"first_\" + colname))\n",
    "        for column in columns:\n",
    "            distance = distance.drop(\"first_\"+column)\n",
    "        \n",
    "        distance = distance.withColumn(\"distance\", sqrt(sum(col(colname) ** 2 for colname in columns)))\n",
    "        diff = distance.agg(spark_sum(\"distance\").alias(\"sum_distance\")).first()['sum_distance']\n",
    "        return diff == 0\n",
    "    \n",
    "    def find_labels(self, distance):\n",
    "        min_distance_col = \"min_distance\"\n",
    "        win = Window.partitionBy(\"id\")\n",
    "        distance = distance.withColumn(min_distance_col, spark_min(\"distance\").over(win))\n",
    "        distance =  distance.withColumn(\"label\", when(col(\"distance\") == col(min_distance_col), col(\"centroid_id\")).otherwise(None))\n",
    "        distance = distance.na.drop(subset=[\"label\"])\n",
    "        for column in distance.columns:\n",
    "            if (column != \"label\") and (column != \"id\"):\n",
    "                distance = distance.drop(column)\n",
    "        return distance\n",
    "        \n",
    "    \n",
    "    def initialize_centroids(self, data):\n",
    "        centroids = data.sample(False, 1.0 / self.n_clusters, 3).limit(self.n_clusters)\n",
    "        \n",
    "        for column in centroids.columns:\n",
    "            centroids = centroids.withColumnRenamed(column, \"centroid_\"+column)\n",
    "        centroids = centroids.withColumn(\"centroid_id\", monotonically_increasing_id())\n",
    "        return centroids\n",
    "\n",
    "    \n",
    "    def compute_centroids(self, data, labels):\n",
    "        columns = data.columns\n",
    "        columns.remove(\"id\")\n",
    "        centroids = data.join(labels, \"id\").groupBy(\"label\").agg(*(avg(col(colname)).alias(\"centroid_\"+colname) for colname in columns))\n",
    "        centroids = centroids.withColumnRenamed(\"label\", \"centroid_id\")\n",
    "        centroids = centroids.drop(\"id\")\n",
    "        return centroids\n",
    "    \n",
    "    def fit(self, data):\n",
    "\n",
    "        # Add an id column to the data_df for joining purposes\n",
    "        data = data.withColumn(\"id\", monotonically_increasing_id())\n",
    "        \n",
    "        # Initialize centroids\n",
    "        self.centroids = self.initialize_centroids(data)\n",
    "\n",
    "        # Iterate for max_itr\n",
    "        for i in range(1,self.max_itr+1):\n",
    "            start = time.time()\n",
    "\n",
    "            # Calculate distance from data points to centroids\n",
    "            distance = self.calculate_distance(self.centroids, data)\n",
    "            \n",
    "            # Assign labels to data points\n",
    "            labels = self.find_labels(distance)\n",
    "            \n",
    "            # Compute new centroids\n",
    "            old_centroids = self.centroids\n",
    "            self.centroids = self.compute_centroids(data, labels)\n",
    "            \n",
    "            \n",
    "            if i%5==0:\n",
    "                if self.calculate_difference(old_centroids, self.centroids):\n",
    "                    break\n",
    "            end = time.time()\n",
    "            print(\"Iteration \",i, \" time: \", end-start)\n",
    "        \n",
    "        # Assign final labels\n",
    "        self.labels = labels.select(\"id\", \"label\")\n",
    "        \n",
    "    def predict(self, data):\n",
    "        # Add an id column to the data_df for joining purposes\n",
    "        data = data.withColumn(\"id\", monotonically_increasing_id())\n",
    "\n",
    "        # Calculate distance from data points to centroids\n",
    "        distance = self.calculate_distance(self.centroids, data)\n",
    "\n",
    "        # Assign labels to data points\n",
    "        labels = self.find_labels(distance)\n",
    "        \n",
    "        # Return labels\n",
    "        return labels.select(\"id\", \"label\")"
   ]
  },
  {
   "cell_type": "code",
   "execution_count": 51,
   "metadata": {},
   "outputs": [],
   "source": [
    "kmeans = KMeans(n_clusters=3, max_itr=50)"
   ]
  },
  {
   "cell_type": "code",
   "execution_count": null,
   "metadata": {},
   "outputs": [],
   "source": [
    "dff.cache()"
   ]
  },
  {
   "cell_type": "code",
   "execution_count": 52,
   "metadata": {},
   "outputs": [
    {
     "name": "stdout",
     "output_type": "stream",
     "text": [
      "Iteration  1  time:  0.13025307655334473\n",
      "Iteration  2  time:  0.16550397872924805\n",
      "Iteration  3  time:  0.10921311378479004\n",
      "Iteration  4  time:  0.1241006851196289\n",
      "Iteration  5  time:  4.3077168464660645\n",
      "Iteration  6  time:  0.16693115234375\n",
      "Iteration  7  time:  0.18288493156433105\n",
      "Iteration  8  time:  0.1845691204071045\n",
      "Iteration  9  time:  0.20372772216796875\n",
      "Iteration  10  time:  7.953126907348633\n",
      "Iteration  11  time:  0.24525094032287598\n",
      "Iteration  12  time:  0.2512948513031006\n",
      "Iteration  13  time:  0.2654910087585449\n",
      "Iteration  14  time:  0.28711605072021484\n"
     ]
    },
    {
     "name": "stderr",
     "output_type": "stream",
     "text": [
      "                                                                                \r"
     ]
    },
    {
     "name": "stdout",
     "output_type": "stream",
     "text": [
      "Iteration  15  time:  12.720131158828735\n",
      "Iteration  16  time:  0.35149097442626953\n",
      "Iteration  17  time:  0.344102144241333\n",
      "Iteration  18  time:  0.3639669418334961\n",
      "Iteration  19  time:  0.4177987575531006\n",
      "Iteration  20  time:  17.852267026901245\n",
      "time taken 46.70939517021179\n"
     ]
    }
   ],
   "source": [
    "start = time.time()\n",
    "kmeans.fit(dff)\n",
    "end = time.time()\n",
    "print(\"time taken\",end - start)"
   ]
  },
  {
   "cell_type": "code",
   "execution_count": 53,
   "metadata": {},
   "outputs": [
    {
     "name": "stdout",
     "output_type": "stream",
     "text": [
      "+-----------+---------------------+-----------------+-------------------+--------------------------+-----------------------------+\n",
      "|centroid_id|centroid_review_count| centroid_friends|     centroid_elite|centroid_compliments_given|centroid_compliments_received|\n",
      "+-----------+---------------------+-----------------+-------------------+--------------------------+-----------------------------+\n",
      "|          0|    4.440276234588525|4.784178604248924|  1.620353179972554|         2.927738211431316|            4.321031294075814|\n",
      "|          1|   2.7634662789896267|2.710847843180503|0.47815486326923157|         1.013402771295903|           2.0417145999172224|\n",
      "|          2|    6.064361924181287| 6.90123803673662|  3.623994246869273|         5.553376477562026|            6.785188497257751|\n",
      "+-----------+---------------------+-----------------+-------------------+--------------------------+-----------------------------+\n",
      "\n"
     ]
    }
   ],
   "source": [
    "#show the centroids\n",
    "kmeans.centroids.show()"
   ]
  },
  {
   "cell_type": "code",
   "execution_count": 54,
   "metadata": {},
   "outputs": [],
   "source": [
    "#sample some data\n",
    "testData = df.sample(False, 1.0 / 10, 3).limit(3)"
   ]
  },
  {
   "cell_type": "code",
   "execution_count": 55,
   "metadata": {},
   "outputs": [],
   "source": [
    "#Predict the labels\n",
    "predicted = kmeans.predict(testData)"
   ]
  },
  {
   "cell_type": "code",
   "execution_count": 56,
   "metadata": {},
   "outputs": [
    {
     "name": "stdout",
     "output_type": "stream",
     "text": [
      "+---+-----+\n",
      "| id|label|\n",
      "+---+-----+\n",
      "|  0|    2|\n",
      "|  1|    2|\n",
      "|  2|    0|\n",
      "+---+-----+\n",
      "\n"
     ]
    }
   ],
   "source": [
    "predicted.show()"
   ]
  },
  {
   "cell_type": "code",
   "execution_count": null,
   "metadata": {},
   "outputs": [],
   "source": []
  }
 ],
 "metadata": {
  "kernelspec": {
   "display_name": "Python 3 (ipykernel)",
   "language": "python",
   "name": "python3"
  },
  "language_info": {
   "codemirror_mode": {
    "name": "ipython",
    "version": 3
   },
   "file_extension": ".py",
   "mimetype": "text/x-python",
   "name": "python",
   "nbconvert_exporter": "python",
   "pygments_lexer": "ipython3",
   "version": "3.9.13"
  }
 },
 "nbformat": 4,
 "nbformat_minor": 2
}
